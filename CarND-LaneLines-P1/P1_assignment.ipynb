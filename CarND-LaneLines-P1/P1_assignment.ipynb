{
 "cells": [
  {
   "cell_type": "markdown",
   "metadata": {},
   "source": [
    "Finding Lane Lines on the Road\n",
    "The goals / steps of this project are the following:\n",
    "\n",
    "Reflection\n",
    "I. Describe your pipeline. As part of the description, explain how you modified the draw_lines() function.\n",
    "My pipeline consisted of 4 steps. I use solidWhiteCurve.jpg as example to explain how the whole process works. \n",
    "\n",
    "\n",
    "step 1: I converted the images to grayscale, then I used the canny function to compute the edges in the image after doing gaussian blur. As shown in the picture below: \n",
    "\n",
    "<img src=\"test_images_output/output1.jpg\">\n",
    "\n",
    "\n",
    "step 2: I filtered the region of interest. I use the points (0, 540), (460, 320), (490, 320), (960, 540)\n",
    "\n",
    "step 3: Run hough transform \n",
    "\n",
    "step 4: Plot the final image after using weight_img() \n",
    "\n",
    "<img src=\"test_images_output/output1_connected_twolanes.jpg\">\n",
    "\n",
    "\n",
    "\n",
    "In order to draw a single line on the left and right lanes, I modified the draw_lines() function by \n",
    "\n",
    "\n",
    "\n",
    "1. detect points (x1,x2,y1,y2) to identify that they should be on the right line or the left line \n",
    "\n",
    "   using simple slope and angle \n",
    "\n",
    "2. if they are on the right: compute unknown x, i.e. \n",
    "\n",
    "   I know the point (490, 320) and (x, 540) the unknown x can be estimated from the points in the right line \n",
    "   \n",
    "   using simple linear equation y = mx + b  ////  x = (y-b)/m\n",
    "   \n",
    "   and then drawing the line using 2 points (min and max).\n",
    "   \n",
    "3. if they are on the left: compute unknown x, i.e. \n",
    "\n",
    "   I know the point  (460, 320) and (x, 540) the unknown x can be estimated from the points in the left line \n",
    "  \n",
    "   using simple linear equation y = mx + b  ////  x = (y-b)/m\n",
    "   \n",
    "    and then drawing the line using 2 points (min and max).\n",
    "\n",
    "\n",
    "That's it. \n",
    "\n",
    "https://www.youtube.com/watch?v=7tQ8TgPngyM  \n",
    "\n"
   ]
  },
  {
   "cell_type": "markdown",
   "metadata": {},
   "source": []
  },
  {
   "cell_type": "markdown",
   "metadata": {
    "collapsed": true
   },
   "source": [
    "\n",
    "II. Identify potential shortcomings with your current pipeline\n",
    "One potential shortcoming would be what would happen when I test the pipeline with \n",
    "\n",
    "\"white_output = 'test_videos_output/solidWhiteRight.mp4'\"\n",
    "\n",
    "https://youtu.be/RWQImaPGIWI \n",
    "    \n",
    "The video was successfully done for 5 seconds. I think because there may be ill-conditioned. I do not understand it yet. \n",
    "\n",
    "It stops at 83%. Sorry about that.  \n",
    "\n",
    "\n",
    "\n",
    "<img src=\"test_images_output/problem_solidWhiteRight.png\">\n",
    "\n",
    "\n",
    "\n",
    "III. Suggest possible improvements to your pipeline\n",
    "A possible improvement would be to find another way to write a draw_line(). The problem is that I do not have much time. \n",
    "Today I have to submit the first verstion. \n"
   ]
  },
  {
   "cell_type": "markdown",
   "metadata": {},
   "source": [
    "Note:  the last video, I got the same problem as mentioned above. "
   ]
  },
  {
   "cell_type": "code",
   "execution_count": null,
   "metadata": {
    "collapsed": true
   },
   "outputs": [],
   "source": []
  }
 ],
 "metadata": {
  "anaconda-cloud": {},
  "kernelspec": {
   "display_name": "Python [default]",
   "language": "python",
   "name": "python3"
  },
  "language_info": {
   "codemirror_mode": {
    "name": "ipython",
    "version": 3
   },
   "file_extension": ".py",
   "mimetype": "text/x-python",
   "name": "python",
   "nbconvert_exporter": "python",
   "pygments_lexer": "ipython3",
   "version": "3.5.2"
  }
 },
 "nbformat": 4,
 "nbformat_minor": 1
}
